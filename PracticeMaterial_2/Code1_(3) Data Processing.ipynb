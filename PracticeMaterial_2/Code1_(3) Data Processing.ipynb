{
 "cells": [
  {
   "cell_type": "markdown",
   "metadata": {},
   "source": [
    "## 라이브러리(패키지) import"
   ]
  },
  {
   "cell_type": "code",
   "execution_count": 1,
   "metadata": {},
   "outputs": [],
   "source": [
    "import pandas as pd\n",
    "import numpy as np\n",
    "import matplotlib.pyplot as plt"
   ]
  },
  {
   "cell_type": "markdown",
   "metadata": {},
   "source": [
    "## 데이터 불러오기"
   ]
  },
  {
   "cell_type": "code",
   "execution_count": 2,
   "metadata": {},
   "outputs": [
    {
     "data": {
      "text/html": [
       "<div>\n",
       "<style scoped>\n",
       "    .dataframe tbody tr th:only-of-type {\n",
       "        vertical-align: middle;\n",
       "    }\n",
       "\n",
       "    .dataframe tbody tr th {\n",
       "        vertical-align: top;\n",
       "    }\n",
       "\n",
       "    .dataframe thead th {\n",
       "        text-align: right;\n",
       "    }\n",
       "</style>\n",
       "<table border=\"1\" class=\"dataframe\">\n",
       "  <thead>\n",
       "    <tr style=\"text-align: right;\">\n",
       "      <th></th>\n",
       "      <th>0</th>\n",
       "      <th>1</th>\n",
       "      <th>2</th>\n",
       "      <th>3</th>\n",
       "    </tr>\n",
       "  </thead>\n",
       "  <tbody>\n",
       "    <tr>\n",
       "      <th>0</th>\n",
       "      <td>0.000000</td>\n",
       "      <td>0.016440</td>\n",
       "      <td>-0.014200</td>\n",
       "      <td>0.001433</td>\n",
       "    </tr>\n",
       "    <tr>\n",
       "      <th>1</th>\n",
       "      <td>0.000078</td>\n",
       "      <td>0.013822</td>\n",
       "      <td>-0.015707</td>\n",
       "      <td>0.001504</td>\n",
       "    </tr>\n",
       "    <tr>\n",
       "      <th>2</th>\n",
       "      <td>0.000156</td>\n",
       "      <td>0.019431</td>\n",
       "      <td>-0.016963</td>\n",
       "      <td>0.001433</td>\n",
       "    </tr>\n",
       "    <tr>\n",
       "      <th>3</th>\n",
       "      <td>0.000234</td>\n",
       "      <td>0.003726</td>\n",
       "      <td>-0.017248</td>\n",
       "      <td>0.001549</td>\n",
       "    </tr>\n",
       "    <tr>\n",
       "      <th>4</th>\n",
       "      <td>0.000313</td>\n",
       "      <td>0.022049</td>\n",
       "      <td>-0.009840</td>\n",
       "      <td>0.001864</td>\n",
       "    </tr>\n",
       "    <tr>\n",
       "      <th>...</th>\n",
       "      <td>...</td>\n",
       "      <td>...</td>\n",
       "      <td>...</td>\n",
       "      <td>...</td>\n",
       "    </tr>\n",
       "    <tr>\n",
       "      <th>2769</th>\n",
       "      <td>0.216330</td>\n",
       "      <td>0.077392</td>\n",
       "      <td>0.002404</td>\n",
       "      <td>0.003453</td>\n",
       "    </tr>\n",
       "    <tr>\n",
       "      <th>2770</th>\n",
       "      <td>0.216410</td>\n",
       "      <td>0.030276</td>\n",
       "      <td>0.003952</td>\n",
       "      <td>0.003498</td>\n",
       "    </tr>\n",
       "    <tr>\n",
       "      <th>2771</th>\n",
       "      <td>0.216480</td>\n",
       "      <td>0.017188</td>\n",
       "      <td>0.005504</td>\n",
       "      <td>0.003397</td>\n",
       "    </tr>\n",
       "    <tr>\n",
       "      <th>2772</th>\n",
       "      <td>0.216560</td>\n",
       "      <td>0.037754</td>\n",
       "      <td>-0.000108</td>\n",
       "      <td>0.003506</td>\n",
       "    </tr>\n",
       "    <tr>\n",
       "      <th>2773</th>\n",
       "      <td>0.216640</td>\n",
       "      <td>-0.016093</td>\n",
       "      <td>-0.001652</td>\n",
       "      <td>0.003600</td>\n",
       "    </tr>\n",
       "  </tbody>\n",
       "</table>\n",
       "<p>2774 rows × 4 columns</p>\n",
       "</div>"
      ],
      "text/plain": [
       "             0         1         2         3\n",
       "0     0.000000  0.016440 -0.014200  0.001433\n",
       "1     0.000078  0.013822 -0.015707  0.001504\n",
       "2     0.000156  0.019431 -0.016963  0.001433\n",
       "3     0.000234  0.003726 -0.017248  0.001549\n",
       "4     0.000313  0.022049 -0.009840  0.001864\n",
       "...        ...       ...       ...       ...\n",
       "2769  0.216330  0.077392  0.002404  0.003453\n",
       "2770  0.216410  0.030276  0.003952  0.003498\n",
       "2771  0.216480  0.017188  0.005504  0.003397\n",
       "2772  0.216560  0.037754 -0.000108  0.003506\n",
       "2773  0.216640 -0.016093 -0.001652  0.003600\n",
       "\n",
       "[2774 rows x 4 columns]"
      ]
     },
     "execution_count": 2,
     "metadata": {},
     "output_type": "execute_result"
    }
   ],
   "source": [
    "ExampleData = pd.read_csv('./ExampleData', sep=',', header=None)\n",
    "ExampleData"
   ]
  },
  {
   "cell_type": "markdown",
   "metadata": {},
   "source": [
    "## 대표값 추출하기"
   ]
  },
  {
   "cell_type": "code",
   "execution_count": 3,
   "metadata": {},
   "outputs": [],
   "source": [
    "def rms(a): #rms 함수 정의\n",
    "    return np.sqrt(np.mean(a**2))"
   ]
  },
  {
   "cell_type": "code",
   "execution_count": 4,
   "metadata": {},
   "outputs": [
    {
     "data": {
      "text/plain": [
       "array([ 1.351     , -1.372     ,  0.42610508,  0.18144271,  0.42596093,\n",
       "        0.01108281])"
      ]
     },
     "execution_count": 4,
     "metadata": {},
     "output_type": "execute_result"
    }
   ],
   "source": [
    "Max  = np.max(ExampleData.iloc[:,1])\n",
    "Min  = np.min(ExampleData.iloc[:,1])\n",
    "RMS  =    rms(ExampleData.iloc[:,1])\n",
    "Var  = np.var(ExampleData.iloc[:,1])\n",
    "Std  = np.std(ExampleData.iloc[:,1])\n",
    "Mean = np.mean(ExampleData.iloc[:,1])\n",
    "\n",
    "Rep_values = np.array([Max, Min, RMS, Var, Std, Mean])\n",
    "Rep_values"
   ]
  },
  {
   "cell_type": "code",
   "execution_count": 5,
   "metadata": {},
   "outputs": [
    {
     "data": {
      "text/plain": [
       "array([[ 1.35100000e+00,  3.01170000e+00,  5.21530000e+00],\n",
       "       [-1.37200000e+00, -2.71730000e+00, -5.24510000e+00],\n",
       "       [ 4.26105083e-01,  1.30590451e+00,  2.73907307e+00],\n",
       "       [ 1.81442713e-01,  1.70533197e+00,  7.50204150e+00],\n",
       "       [ 4.25960929e-01,  1.30588360e+00,  2.73898549e+00],\n",
       "       [ 1.10828100e-02,  7.39091967e-03, -2.19042693e-02]])"
      ]
     },
     "execution_count": 5,
     "metadata": {},
     "output_type": "execute_result"
    }
   ],
   "source": [
    "# for 구문 이용하여 각센서 대표값 추출하기\n",
    "\n",
    "Rep_Values = np.zeros((6 , ExampleData.shape[1]-1))\n",
    "for i in range(1,ExampleData.shape[1]):\n",
    "    \n",
    "    Rep_Values[0,i-1] = np.max(ExampleData.iloc[:,i])\n",
    "    Rep_Values[1,i-1] = np.min(ExampleData.iloc[:,i])\n",
    "    Rep_Values[2,i-1] =    rms(ExampleData.iloc[:,i])\n",
    "    Rep_Values[3,i-1] = np.var(ExampleData.iloc[:,i])\n",
    "    Rep_Values[4,i-1] = np.std(ExampleData.iloc[:,i])\n",
    "    Rep_Values[5,i-1] = np.mean(ExampleData.iloc[:,i])\n",
    "    \n",
    "Rep_Values\n",
    "    "
   ]
  },
  {
   "cell_type": "code",
   "execution_count": 6,
   "metadata": {},
   "outputs": [
    {
     "data": {
      "text/plain": [
       "(21, 3)"
      ]
     },
     "execution_count": 6,
     "metadata": {},
     "output_type": "execute_result"
    }
   ],
   "source": [
    "# for 구문 이용하여 각센서 데이터의 0.01초마다 RMS값 변화 확인\n",
    "\n",
    "RMS_Values = np.zeros((21 , ExampleData.shape[1]-1))\n",
    "\n",
    "for i in range(1,ExampleData.shape[1]):\n",
    "    for j in range(21):\n",
    "        \n",
    "       RMS_Values[j,i-1] = rms(ExampleData.iloc[128*(j):128*(j+1),i])\n",
    "        \n",
    "RMS_Values.shape\n"
   ]
  },
  {
   "cell_type": "code",
   "execution_count": null,
   "metadata": {},
   "outputs": [],
   "source": [
    "# 그래프\n",
    "\n",
    "plt.figure(figsize=(15,7))\n",
    "plt.plot(range(21), RMS_Values[:,0], 'o--', markersize = 5, mfc = 'b', mec = 'b')\n",
    "plt.plot(range(21), RMS_Values[:,1], 'o--', markersize = 5, mfc = 'r', mec = 'r')\n",
    "plt.plot(range(21), RMS_Values[:,2], 'o--', markersize = 5, mfc = 'g', mec = 'g')\n",
    "plt.grid()\n",
    "plt.xlabel('time(s)')\n",
    "plt.ylabel('RMS(g)')\n",
    "\n",
    "plt.show()"
   ]
  },
  {
   "cell_type": "code",
   "execution_count": null,
   "metadata": {},
   "outputs": [],
   "source": []
  }
 ],
 "metadata": {
  "kernelspec": {
   "display_name": "Python 3",
   "language": "python",
   "name": "python3"
  },
  "language_info": {
   "codemirror_mode": {
    "name": "ipython",
    "version": 3
   },
   "file_extension": ".py",
   "mimetype": "text/x-python",
   "name": "python",
   "nbconvert_exporter": "python",
   "pygments_lexer": "ipython3",
   "version": "3.6.10"
  }
 },
 "nbformat": 4,
 "nbformat_minor": 2
}

{
 "cells": [
  {
   "cell_type": "markdown",
   "metadata": {},
   "source": [
    "## 라이브러리 import"
   ]
  },
  {
   "cell_type": "code",
   "execution_count": 1,
   "metadata": {},
   "outputs": [],
   "source": [
    "import pandas as pd\n",
    "import numpy as np\n",
    "import scipy.stats as sp\n",
    "import pywt"
   ]
  },
  {
   "cell_type": "markdown",
   "metadata": {},
   "source": [
    "## 데이터 크기 정의하기"
   ]
  },
  {
   "cell_type": "code",
   "execution_count": 2,
   "metadata": {},
   "outputs": [
    {
     "data": {
      "text/plain": [
       "(180, 3, 10)"
      ]
     },
     "execution_count": 2,
     "metadata": {},
     "output_type": "execute_result"
    }
   ],
   "source": [
    "NoOfData    = 180  # 정상/고장 데이터 각 180개씩 \n",
    "NoOfSensor  = 3    # 가속도(Acceleration), 전압(Voltage), 전류(Current)\n",
    "NoOfFeature = 10   # 특징 개수:10개 (순서: Max, Min, Mean, RMS, Variance, Skewness, Kurtosis, Crest factor, Impulse factor, Shape factor)\n",
    "\n",
    "NoOfData, NoOfSensor, NoOfFeature"
   ]
  },
  {
   "cell_type": "markdown",
   "metadata": {},
   "source": [
    "## Time Domain 특징값 추출 (10 features * 3 sensors = 30개씩)"
   ]
  },
  {
   "cell_type": "code",
   "execution_count": 3,
   "metadata": {},
   "outputs": [],
   "source": [
    "def rms(x): # RMS 함수 정의\n",
    "    return np.sqrt(np.mean(x**2))"
   ]
  },
  {
   "cell_type": "code",
   "execution_count": 4,
   "metadata": {},
   "outputs": [
    {
     "name": "stdout",
     "output_type": "stream",
     "text": [
      "(30, 180)\n",
      "(30, 180)\n"
     ]
    }
   ],
   "source": [
    "# 특징데이터 크기 지정\n",
    "TimeFeature_Normal   = np.zeros((NoOfSensor*NoOfFeature , NoOfData))\n",
    "TimeFeature_Abnormal = np.zeros((NoOfSensor*NoOfFeature , NoOfData))\n",
    "\n",
    "for i in range(NoOfData):\n",
    "    \n",
    "    # 데이터 불러오기\n",
    "    temp_path1 = './SpotWeldingData/Normal_%d'%(i+1)   # Normal 데이터 파일 경로\n",
    "    temp_path2 = './SpotWeldingData/Abnormal_%d'%(i+1) # Abnormal 데이터 파일 경로\n",
    "    temp_data1 = pd.read_csv(temp_path1 , sep=',' , header=None) # 임시 Normal 데이터\n",
    "    temp_data2 = pd.read_csv(temp_path2 , sep=',' , header=None) # 임시 Abnormal 데이터\n",
    "    \n",
    "    # Time Domain 특징값 추출\n",
    "    for j in range(NoOfSensor):\n",
    "        \n",
    "        # Normal Time Domain Feature\n",
    "        TimeFeature_Normal[10*j+0, i] = np.max(temp_data1.iloc[:,j+1])\n",
    "        TimeFeature_Normal[10*j+1, i] = np.min(temp_data1.iloc[:,j+1])\n",
    "        TimeFeature_Normal[10*j+2, i] = np.mean(temp_data1.iloc[:,j+1])\n",
    "        TimeFeature_Normal[10*j+3, i] = rms(temp_data1.iloc[:,j+1])\n",
    "        TimeFeature_Normal[10*j+4, i] = np.var(temp_data1.iloc[:,j+1])\n",
    "        TimeFeature_Normal[10*j+5, i] = sp.skew(temp_data1.iloc[:,j+1])\n",
    "        TimeFeature_Normal[10*j+6, i] = sp.kurtosis(temp_data1.iloc[:,j+1])\n",
    "        TimeFeature_Normal[10*j+7, i] = np.max(temp_data1.iloc[:,j+1])/rms(temp_data1.iloc[:,j+1])\n",
    "        TimeFeature_Normal[10*j+8, i] = rms(temp_data1.iloc[:,j+1])/np.mean(temp_data1.iloc[:,j+1])\n",
    "        TimeFeature_Normal[10*j+9, i] = np.max(temp_data1.iloc[:,j+1])/np.mean(temp_data1.iloc[:,j+1])\n",
    "        \n",
    "        # Abnormal Time Domain Feature\n",
    "        TimeFeature_Abnormal[10*j+0, i] = np.max(temp_data2.iloc[:,j+1])\n",
    "        TimeFeature_Abnormal[10*j+1, i] = np.min(temp_data2.iloc[:,j+1])\n",
    "        TimeFeature_Abnormal[10*j+2, i] = np.mean(temp_data2.iloc[:,j+1])\n",
    "        TimeFeature_Abnormal[10*j+3, i] = rms(temp_data2.iloc[:,j+1])\n",
    "        TimeFeature_Abnormal[10*j+4, i] = np.var(temp_data2.iloc[:,j+1])\n",
    "        TimeFeature_Abnormal[10*j+5, i] = sp.skew(temp_data2.iloc[:,j+1])\n",
    "        TimeFeature_Abnormal[10*j+6, i] = sp.kurtosis(temp_data2.iloc[:,j+1])\n",
    "        TimeFeature_Abnormal[10*j+7, i] = np.max(temp_data2.iloc[:,j+1])/rms(temp_data2.iloc[:,j+1])\n",
    "        TimeFeature_Abnormal[10*j+8, i] = rms(temp_data2.iloc[:,j+1])/np.mean(temp_data2.iloc[:,j+1])\n",
    "        TimeFeature_Abnormal[10*j+9, i] = np.max(temp_data2.iloc[:,j+1])/np.mean(temp_data2.iloc[:,j+1])\n",
    "        \n",
    "print(TimeFeature_Normal.shape)\n",
    "print(TimeFeature_Abnormal.shape)"
   ]
  },
  {
   "cell_type": "markdown",
   "metadata": {},
   "source": [
    "Normal, Abnormal 데이터 합치기  "
   ]
  },
  {
   "cell_type": "code",
   "execution_count": 5,
   "metadata": {},
   "outputs": [
    {
     "data": {
      "text/plain": [
       "(30, 360)"
      ]
     },
     "execution_count": 5,
     "metadata": {},
     "output_type": "execute_result"
    }
   ],
   "source": [
    "TimeFeature = np.concatenate([TimeFeature_Normal, TimeFeature_Abnormal] , axis=1)\n",
    "TimeFeature.shape"
   ]
  },
  {
   "cell_type": "markdown",
   "metadata": {},
   "source": [
    "## Frequncy Domain 특징값 추출 (10 features \\* 8 wavelet levels * 3 sensors = 240개씩)"
   ]
  },
  {
   "cell_type": "code",
   "execution_count": 6,
   "metadata": {},
   "outputs": [],
   "source": [
    "# Wavelet options\n",
    "\n",
    "MotherWavelet = pywt.Wavelet('db4')   # Mother wavelet (모함수) 지정\n",
    "Level   = 8                    # Wavelet 분해 레벨 지정\n",
    "select  = 8                    # 특징추출 영역 고주파 영역부터 개수 지정 (d1~)"
   ]
  },
  {
   "cell_type": "code",
   "execution_count": 7,
   "metadata": {},
   "outputs": [
    {
     "name": "stdout",
     "output_type": "stream",
     "text": [
      "(240, 180)\n",
      "(240, 180)\n"
     ]
    }
   ],
   "source": [
    "#Frequency Domain 특징값 추출 (Wavelet Transform 기반)\n",
    "FreqFeature_Normal   = np.zeros(shape=(NoOfSensor*NoOfFeature*select , NoOfData))\n",
    "FreqFeature_Abnormal = np.zeros(shape=(NoOfSensor*NoOfFeature*select , NoOfData))\n",
    "\n",
    "for i in range(NoOfData):\n",
    "    \n",
    "    # 데이터 불러오기\n",
    "    temp_path1 = './SpotWeldingData/Normal_%d'%(i+1)   # Normal 데이터 파일 경로\n",
    "    temp_path2 = './SpotWeldingData/Abnormal_%d'%(i+1) # Abnormal 데이터 파일 경로\n",
    "    temp_data1 = np.array(pd.read_csv(temp_path1 , sep=',', header=None).iloc[:,1:]) # 임시 Normal 데이터\n",
    "    temp_data2 = np.array(pd.read_csv(temp_path2 , sep=',', header=None).iloc[:,1:]) # 임시 Abnormal 데이터\n",
    "    Coef1      = pywt.wavedec(temp_data1, MotherWavelet, level=Level, axis=0)\n",
    "    Coef2      = pywt.wavedec(temp_data2, MotherWavelet, level=Level, axis=0)\n",
    "    \n",
    "    # Frequency Domain 특징값 추출\n",
    "    for j in range(NoOfSensor):\n",
    "        \n",
    "        for k in np.arange(select):\n",
    "            coef1 = Coef1[Level-k]\n",
    "            coef2 = Coef2[Level-k]\n",
    "            \n",
    "            \n",
    "            # Normal Frequency Domain Feature\n",
    "            FreqFeature_Normal[NoOfFeature*j*select+k*NoOfFeature+0 , (i-1)] = np.max(coef1[:,j])\n",
    "            FreqFeature_Normal[NoOfFeature*j*select+k*NoOfFeature+1 , (i-1)] = np.min(coef1[:,j])\n",
    "            FreqFeature_Normal[NoOfFeature*j*select+k*NoOfFeature+2 , (i-1)] = np.mean(coef1[:,j])\n",
    "            FreqFeature_Normal[NoOfFeature*j*select+k*NoOfFeature+3 , (i-1)] = np.var(coef1[:,j])\n",
    "            FreqFeature_Normal[NoOfFeature*j*select+k*NoOfFeature+4 , (i-1)] = rms(coef1[:,j])\n",
    "            FreqFeature_Normal[NoOfFeature*j*select+k*NoOfFeature+5 , (i-1)] = sp.skew(coef1[:,j])\n",
    "            FreqFeature_Normal[NoOfFeature*j*select+k*NoOfFeature+6 , (i-1)] = sp.kurtosis(coef1[:,j])\n",
    "            FreqFeature_Normal[NoOfFeature*j*select+k*NoOfFeature+7 , (i-1)] = np.max(coef1[:,j])/rms(coef1[:,j])\n",
    "            FreqFeature_Normal[NoOfFeature*j*select+k*NoOfFeature+8 , (i-1)] = rms(coef1[:,j])/np.mean(coef1[:,j])\n",
    "            FreqFeature_Normal[NoOfFeature*j*select+k*NoOfFeature+9 , (i-1)] = np.max(coef1[:,j])/np.mean(coef1[:,j])\n",
    "            \n",
    "            # Abnormal Frequency Domain Feature\n",
    "            FreqFeature_Abnormal[NoOfFeature*j*select+k*NoOfFeature+0 , (i-1)] = np.max(coef2[:,j])\n",
    "            FreqFeature_Abnormal[NoOfFeature*j*select+k*NoOfFeature+1 , (i-1)] = np.min(coef2[:,j])\n",
    "            FreqFeature_Abnormal[NoOfFeature*j*select+k*NoOfFeature+2 , (i-1)] = np.mean(coef2[:,j])\n",
    "            FreqFeature_Abnormal[NoOfFeature*j*select+k*NoOfFeature+3 , (i-1)] = np.var(coef2[:,j])\n",
    "            FreqFeature_Abnormal[NoOfFeature*j*select+k*NoOfFeature+4 , (i-1)] = rms(coef2[:,j])\n",
    "            FreqFeature_Abnormal[NoOfFeature*j*select+k*NoOfFeature+5 , (i-1)] = sp.skew(coef2[:,j])\n",
    "            FreqFeature_Abnormal[NoOfFeature*j*select+k*NoOfFeature+6 , (i-1)] = sp.kurtosis(coef2[:,j])\n",
    "            FreqFeature_Abnormal[NoOfFeature*j*select+k*NoOfFeature+7 , (i-1)] = np.max(coef2[:,j])/rms(coef2[:,j])\n",
    "            FreqFeature_Abnormal[NoOfFeature*j*select+k*NoOfFeature+8 , (i-1)] = rms(coef2[:,j])/np.mean(coef2[:,j])\n",
    "            FreqFeature_Abnormal[NoOfFeature*j*select+k*NoOfFeature+9 , (i-1)] = np.max(coef2[:,j])/np.mean(coef2[:,j])\n",
    "\n",
    "print(FreqFeature_Normal.shape)\n",
    "print(FreqFeature_Abnormal.shape)"
   ]
  },
  {
   "cell_type": "markdown",
   "metadata": {},
   "source": [
    "Normal, Abnormal 특징값 합치기      "
   ]
  },
  {
   "cell_type": "code",
   "execution_count": 8,
   "metadata": {},
   "outputs": [
    {
     "data": {
      "text/plain": [
       "(240, 360)"
      ]
     },
     "execution_count": 8,
     "metadata": {},
     "output_type": "execute_result"
    }
   ],
   "source": [
    "FreqFeature = np.concatenate([FreqFeature_Normal, FreqFeature_Abnormal] , axis=1)\n",
    "FreqFeature.shape"
   ]
  },
  {
   "cell_type": "markdown",
   "metadata": {},
   "source": [
    "## Feature 통합 (Time domain 30개 + Freq. domain 240 = 270개)"
   ]
  },
  {
   "cell_type": "code",
   "execution_count": 9,
   "metadata": {},
   "outputs": [
    {
     "name": "stdout",
     "output_type": "stream",
     "text": [
      "Feature Data Size : (270, 360)\n",
      "= 데이터 360개(정상/고장 각 180개씩)가 각각 270개의 특징값으로 구성됨\n"
     ]
    }
   ],
   "source": [
    "Features = np.concatenate([TimeFeature,FreqFeature] , axis=0)\n",
    "\n",
    "print(\"Feature Data Size :\", Features.shape)\n",
    "print(\"= 데이터 360개(정상/고장 각 180개씩)가 각각 270개의 특징값으로 구성됨\")"
   ]
  },
  {
   "cell_type": "markdown",
   "metadata": {},
   "source": [
    "저장에 용이한 Data frame 형식으로 변환"
   ]
  },
  {
   "cell_type": "code",
   "execution_count": 10,
   "metadata": {},
   "outputs": [
    {
     "data": {
      "text/html": [
       "<div>\n",
       "<style scoped>\n",
       "    .dataframe tbody tr th:only-of-type {\n",
       "        vertical-align: middle;\n",
       "    }\n",
       "\n",
       "    .dataframe tbody tr th {\n",
       "        vertical-align: top;\n",
       "    }\n",
       "\n",
       "    .dataframe thead th {\n",
       "        text-align: right;\n",
       "    }\n",
       "</style>\n",
       "<table border=\"1\" class=\"dataframe\">\n",
       "  <thead>\n",
       "    <tr style=\"text-align: right;\">\n",
       "      <th></th>\n",
       "      <th>0</th>\n",
       "      <th>1</th>\n",
       "      <th>2</th>\n",
       "      <th>3</th>\n",
       "      <th>4</th>\n",
       "      <th>5</th>\n",
       "      <th>6</th>\n",
       "      <th>7</th>\n",
       "      <th>8</th>\n",
       "      <th>9</th>\n",
       "      <th>...</th>\n",
       "      <th>350</th>\n",
       "      <th>351</th>\n",
       "      <th>352</th>\n",
       "      <th>353</th>\n",
       "      <th>354</th>\n",
       "      <th>355</th>\n",
       "      <th>356</th>\n",
       "      <th>357</th>\n",
       "      <th>358</th>\n",
       "      <th>359</th>\n",
       "    </tr>\n",
       "  </thead>\n",
       "  <tbody>\n",
       "    <tr>\n",
       "      <th>0</th>\n",
       "      <td>1.351000</td>\n",
       "      <td>31.661000</td>\n",
       "      <td>31.832000</td>\n",
       "      <td>1.418300</td>\n",
       "      <td>1.053400</td>\n",
       "      <td>30.628000</td>\n",
       "      <td>0.992040</td>\n",
       "      <td>0.992420</td>\n",
       "      <td>1.059700</td>\n",
       "      <td>1.170800</td>\n",
       "      <td>...</td>\n",
       "      <td>0.931090</td>\n",
       "      <td>0.732910</td>\n",
       "      <td>1.016000</td>\n",
       "      <td>0.717950</td>\n",
       "      <td>0.853310</td>\n",
       "      <td>0.747490</td>\n",
       "      <td>0.718320</td>\n",
       "      <td>0.845460</td>\n",
       "      <td>0.848450</td>\n",
       "      <td>0.758330</td>\n",
       "    </tr>\n",
       "    <tr>\n",
       "      <th>1</th>\n",
       "      <td>-1.372000</td>\n",
       "      <td>-22.786000</td>\n",
       "      <td>-23.613000</td>\n",
       "      <td>-1.085600</td>\n",
       "      <td>-1.057500</td>\n",
       "      <td>-19.468000</td>\n",
       "      <td>-1.319600</td>\n",
       "      <td>-1.056400</td>\n",
       "      <td>-2.041700</td>\n",
       "      <td>-1.343200</td>\n",
       "      <td>...</td>\n",
       "      <td>-1.564900</td>\n",
       "      <td>-0.730310</td>\n",
       "      <td>-1.387000</td>\n",
       "      <td>-0.796880</td>\n",
       "      <td>-0.860070</td>\n",
       "      <td>-0.782290</td>\n",
       "      <td>-0.513800</td>\n",
       "      <td>-0.656270</td>\n",
       "      <td>-0.747890</td>\n",
       "      <td>-0.914290</td>\n",
       "    </tr>\n",
       "    <tr>\n",
       "      <th>2</th>\n",
       "      <td>0.011083</td>\n",
       "      <td>0.023339</td>\n",
       "      <td>0.020506</td>\n",
       "      <td>0.027215</td>\n",
       "      <td>0.016574</td>\n",
       "      <td>0.018563</td>\n",
       "      <td>0.020904</td>\n",
       "      <td>0.024480</td>\n",
       "      <td>0.029605</td>\n",
       "      <td>0.028426</td>\n",
       "      <td>...</td>\n",
       "      <td>0.029894</td>\n",
       "      <td>0.027896</td>\n",
       "      <td>0.032512</td>\n",
       "      <td>0.036554</td>\n",
       "      <td>0.031676</td>\n",
       "      <td>0.037731</td>\n",
       "      <td>0.036942</td>\n",
       "      <td>0.035927</td>\n",
       "      <td>0.035836</td>\n",
       "      <td>0.036279</td>\n",
       "    </tr>\n",
       "    <tr>\n",
       "      <th>3</th>\n",
       "      <td>0.426105</td>\n",
       "      <td>2.312749</td>\n",
       "      <td>2.313820</td>\n",
       "      <td>0.396240</td>\n",
       "      <td>0.388252</td>\n",
       "      <td>2.088591</td>\n",
       "      <td>0.403801</td>\n",
       "      <td>0.404898</td>\n",
       "      <td>0.381526</td>\n",
       "      <td>0.412919</td>\n",
       "      <td>...</td>\n",
       "      <td>0.339540</td>\n",
       "      <td>0.317581</td>\n",
       "      <td>0.335417</td>\n",
       "      <td>0.328550</td>\n",
       "      <td>0.336647</td>\n",
       "      <td>0.338766</td>\n",
       "      <td>0.265980</td>\n",
       "      <td>0.321351</td>\n",
       "      <td>0.323284</td>\n",
       "      <td>0.302785</td>\n",
       "    </tr>\n",
       "    <tr>\n",
       "      <th>4</th>\n",
       "      <td>0.181443</td>\n",
       "      <td>5.348262</td>\n",
       "      <td>5.353342</td>\n",
       "      <td>0.156266</td>\n",
       "      <td>0.150465</td>\n",
       "      <td>4.361866</td>\n",
       "      <td>0.162618</td>\n",
       "      <td>0.163343</td>\n",
       "      <td>0.144686</td>\n",
       "      <td>0.169694</td>\n",
       "      <td>...</td>\n",
       "      <td>0.114394</td>\n",
       "      <td>0.100079</td>\n",
       "      <td>0.111448</td>\n",
       "      <td>0.106609</td>\n",
       "      <td>0.112328</td>\n",
       "      <td>0.113339</td>\n",
       "      <td>0.069381</td>\n",
       "      <td>0.101976</td>\n",
       "      <td>0.103229</td>\n",
       "      <td>0.090362</td>\n",
       "    </tr>\n",
       "    <tr>\n",
       "      <th>...</th>\n",
       "      <td>...</td>\n",
       "      <td>...</td>\n",
       "      <td>...</td>\n",
       "      <td>...</td>\n",
       "      <td>...</td>\n",
       "      <td>...</td>\n",
       "      <td>...</td>\n",
       "      <td>...</td>\n",
       "      <td>...</td>\n",
       "      <td>...</td>\n",
       "      <td>...</td>\n",
       "      <td>...</td>\n",
       "      <td>...</td>\n",
       "      <td>...</td>\n",
       "      <td>...</td>\n",
       "      <td>...</td>\n",
       "      <td>...</td>\n",
       "      <td>...</td>\n",
       "      <td>...</td>\n",
       "      <td>...</td>\n",
       "      <td>...</td>\n",
       "    </tr>\n",
       "    <tr>\n",
       "      <th>265</th>\n",
       "      <td>-0.185952</td>\n",
       "      <td>-0.187187</td>\n",
       "      <td>-0.171520</td>\n",
       "      <td>-0.189503</td>\n",
       "      <td>-0.201445</td>\n",
       "      <td>-0.186237</td>\n",
       "      <td>-0.199074</td>\n",
       "      <td>-0.170394</td>\n",
       "      <td>-0.190345</td>\n",
       "      <td>-0.170432</td>\n",
       "      <td>...</td>\n",
       "      <td>-0.190720</td>\n",
       "      <td>-0.176745</td>\n",
       "      <td>-0.190214</td>\n",
       "      <td>-0.194586</td>\n",
       "      <td>-0.187871</td>\n",
       "      <td>-0.193369</td>\n",
       "      <td>-0.188452</td>\n",
       "      <td>-0.190433</td>\n",
       "      <td>-0.186167</td>\n",
       "      <td>-0.203258</td>\n",
       "    </tr>\n",
       "    <tr>\n",
       "      <th>266</th>\n",
       "      <td>-0.897746</td>\n",
       "      <td>-0.845829</td>\n",
       "      <td>-0.844962</td>\n",
       "      <td>-0.857929</td>\n",
       "      <td>-0.914043</td>\n",
       "      <td>-0.868960</td>\n",
       "      <td>-0.916918</td>\n",
       "      <td>-0.821813</td>\n",
       "      <td>-0.860336</td>\n",
       "      <td>-0.853039</td>\n",
       "      <td>...</td>\n",
       "      <td>-0.938659</td>\n",
       "      <td>-0.843433</td>\n",
       "      <td>-0.926418</td>\n",
       "      <td>-0.891989</td>\n",
       "      <td>-0.934288</td>\n",
       "      <td>-0.930963</td>\n",
       "      <td>-0.864821</td>\n",
       "      <td>-0.835896</td>\n",
       "      <td>-0.846398</td>\n",
       "      <td>-0.797992</td>\n",
       "    </tr>\n",
       "    <tr>\n",
       "      <th>267</th>\n",
       "      <td>1.794657</td>\n",
       "      <td>1.830514</td>\n",
       "      <td>1.834013</td>\n",
       "      <td>1.826639</td>\n",
       "      <td>1.792487</td>\n",
       "      <td>1.817414</td>\n",
       "      <td>1.791401</td>\n",
       "      <td>1.853724</td>\n",
       "      <td>1.829700</td>\n",
       "      <td>1.840133</td>\n",
       "      <td>...</td>\n",
       "      <td>1.777513</td>\n",
       "      <td>1.847621</td>\n",
       "      <td>1.785046</td>\n",
       "      <td>1.795797</td>\n",
       "      <td>1.780019</td>\n",
       "      <td>1.778696</td>\n",
       "      <td>1.828450</td>\n",
       "      <td>1.843831</td>\n",
       "      <td>1.831464</td>\n",
       "      <td>1.833629</td>\n",
       "    </tr>\n",
       "    <tr>\n",
       "      <th>268</th>\n",
       "      <td>8.293784</td>\n",
       "      <td>8.196896</td>\n",
       "      <td>7.671136</td>\n",
       "      <td>7.465559</td>\n",
       "      <td>7.029386</td>\n",
       "      <td>7.119339</td>\n",
       "      <td>6.689375</td>\n",
       "      <td>8.137360</td>\n",
       "      <td>7.335499</td>\n",
       "      <td>8.038893</td>\n",
       "      <td>...</td>\n",
       "      <td>6.463547</td>\n",
       "      <td>7.512968</td>\n",
       "      <td>6.494972</td>\n",
       "      <td>7.103328</td>\n",
       "      <td>6.686745</td>\n",
       "      <td>6.681085</td>\n",
       "      <td>6.412330</td>\n",
       "      <td>7.825111</td>\n",
       "      <td>7.715043</td>\n",
       "      <td>7.490327</td>\n",
       "    </tr>\n",
       "    <tr>\n",
       "      <th>269</th>\n",
       "      <td>14.884498</td>\n",
       "      <td>15.004537</td>\n",
       "      <td>14.068964</td>\n",
       "      <td>13.636881</td>\n",
       "      <td>12.600085</td>\n",
       "      <td>12.938787</td>\n",
       "      <td>11.983353</td>\n",
       "      <td>15.084421</td>\n",
       "      <td>13.421760</td>\n",
       "      <td>14.792635</td>\n",
       "      <td>...</td>\n",
       "      <td>11.489040</td>\n",
       "      <td>13.881119</td>\n",
       "      <td>11.593825</td>\n",
       "      <td>12.756137</td>\n",
       "      <td>11.902533</td>\n",
       "      <td>11.883617</td>\n",
       "      <td>11.724627</td>\n",
       "      <td>14.428180</td>\n",
       "      <td>14.129824</td>\n",
       "      <td>13.734481</td>\n",
       "    </tr>\n",
       "  </tbody>\n",
       "</table>\n",
       "<p>270 rows × 360 columns</p>\n",
       "</div>"
      ],
      "text/plain": [
       "           0          1          2          3          4          5    \\\n",
       "0     1.351000  31.661000  31.832000   1.418300   1.053400  30.628000   \n",
       "1    -1.372000 -22.786000 -23.613000  -1.085600  -1.057500 -19.468000   \n",
       "2     0.011083   0.023339   0.020506   0.027215   0.016574   0.018563   \n",
       "3     0.426105   2.312749   2.313820   0.396240   0.388252   2.088591   \n",
       "4     0.181443   5.348262   5.353342   0.156266   0.150465   4.361866   \n",
       "..         ...        ...        ...        ...        ...        ...   \n",
       "265  -0.185952  -0.187187  -0.171520  -0.189503  -0.201445  -0.186237   \n",
       "266  -0.897746  -0.845829  -0.844962  -0.857929  -0.914043  -0.868960   \n",
       "267   1.794657   1.830514   1.834013   1.826639   1.792487   1.817414   \n",
       "268   8.293784   8.196896   7.671136   7.465559   7.029386   7.119339   \n",
       "269  14.884498  15.004537  14.068964  13.636881  12.600085  12.938787   \n",
       "\n",
       "           6          7          8          9    ...        350        351  \\\n",
       "0     0.992040   0.992420   1.059700   1.170800  ...   0.931090   0.732910   \n",
       "1    -1.319600  -1.056400  -2.041700  -1.343200  ...  -1.564900  -0.730310   \n",
       "2     0.020904   0.024480   0.029605   0.028426  ...   0.029894   0.027896   \n",
       "3     0.403801   0.404898   0.381526   0.412919  ...   0.339540   0.317581   \n",
       "4     0.162618   0.163343   0.144686   0.169694  ...   0.114394   0.100079   \n",
       "..         ...        ...        ...        ...  ...        ...        ...   \n",
       "265  -0.199074  -0.170394  -0.190345  -0.170432  ...  -0.190720  -0.176745   \n",
       "266  -0.916918  -0.821813  -0.860336  -0.853039  ...  -0.938659  -0.843433   \n",
       "267   1.791401   1.853724   1.829700   1.840133  ...   1.777513   1.847621   \n",
       "268   6.689375   8.137360   7.335499   8.038893  ...   6.463547   7.512968   \n",
       "269  11.983353  15.084421  13.421760  14.792635  ...  11.489040  13.881119   \n",
       "\n",
       "           352        353        354        355        356        357  \\\n",
       "0     1.016000   0.717950   0.853310   0.747490   0.718320   0.845460   \n",
       "1    -1.387000  -0.796880  -0.860070  -0.782290  -0.513800  -0.656270   \n",
       "2     0.032512   0.036554   0.031676   0.037731   0.036942   0.035927   \n",
       "3     0.335417   0.328550   0.336647   0.338766   0.265980   0.321351   \n",
       "4     0.111448   0.106609   0.112328   0.113339   0.069381   0.101976   \n",
       "..         ...        ...        ...        ...        ...        ...   \n",
       "265  -0.190214  -0.194586  -0.187871  -0.193369  -0.188452  -0.190433   \n",
       "266  -0.926418  -0.891989  -0.934288  -0.930963  -0.864821  -0.835896   \n",
       "267   1.785046   1.795797   1.780019   1.778696   1.828450   1.843831   \n",
       "268   6.494972   7.103328   6.686745   6.681085   6.412330   7.825111   \n",
       "269  11.593825  12.756137  11.902533  11.883617  11.724627  14.428180   \n",
       "\n",
       "           358        359  \n",
       "0     0.848450   0.758330  \n",
       "1    -0.747890  -0.914290  \n",
       "2     0.035836   0.036279  \n",
       "3     0.323284   0.302785  \n",
       "4     0.103229   0.090362  \n",
       "..         ...        ...  \n",
       "265  -0.186167  -0.203258  \n",
       "266  -0.846398  -0.797992  \n",
       "267   1.831464   1.833629  \n",
       "268   7.715043   7.490327  \n",
       "269  14.129824  13.734481  \n",
       "\n",
       "[270 rows x 360 columns]"
      ]
     },
     "execution_count": 10,
     "metadata": {},
     "output_type": "execute_result"
    }
   ],
   "source": [
    "FeatureData = pd.DataFrame(Features)\n",
    "FeatureData"
   ]
  },
  {
   "cell_type": "markdown",
   "metadata": {},
   "source": [
    "추출된 특징 데이터 저장 (.csv 파일)"
   ]
  },
  {
   "cell_type": "code",
   "execution_count": 12,
   "metadata": {},
   "outputs": [],
   "source": [
    "path = './ProcessedData/FeatureData'   # path = '파일 경로/저장할 파일 이름'\n",
    "FeatureData.to_csv(path, sep=',', header=None , index=None)"
   ]
  },
  {
   "cell_type": "code",
   "execution_count": null,
   "metadata": {},
   "outputs": [],
   "source": []
  },
  {
   "cell_type": "markdown",
   "metadata": {},
   "source": [
    "# [실습 과제 2]"
   ]
  },
  {
   "cell_type": "markdown",
   "metadata": {},
   "source": [
    "## 1. 센서 데이터 2개 (전압, 전류) 및 WT level 6으로 설정하여 다른 형태의 특징데이터 추출 \n",
    "#### >>>>>> 저장된 특징 데이터 파일 제출\n",
    "#### >>>>>> 데이터 이름 : ST(수강생 번호)_HW2_1  (예시 : 'ST000_HW2_1'  //  'ST00_HW2_1'  //  'ST0_HW2_1')\n",
    "#### >>>>>> 데이터 이름 중 'ST' , 'HW' 등 영어는 모두 대문자"
   ]
  },
  {
   "cell_type": "code",
   "execution_count": null,
   "metadata": {},
   "outputs": [],
   "source": []
  },
  {
   "cell_type": "markdown",
   "metadata": {},
   "source": [
    "### ****** 필독 !! 실습과제 주의사항 ******"
   ]
  },
  {
   "cell_type": "markdown",
   "metadata": {},
   "source": [
    "- 각자의 \"수강생 번호\" 확인 (아이캠퍼스 공지) \n",
    "- 제출하는 실습과제 파일에 \"수강생 번호\"를 기준으로 작성 (이름, 학번 등 작성X)\n",
    "- 각 실습과제에 대한 구체적인 파일 이름은 매번 개별 안내 \n",
    "  (수강생 번호 123번 학생 과제파일 예시 : 'ST123_HW2_1.csv' )\n",
    "- 과제 파일이름 양식 지키지 않을 시 감점!"
   ]
  }
 ],
 "metadata": {
  "kernelspec": {
   "display_name": "Python 3",
   "language": "python",
   "name": "python3"
  },
  "language_info": {
   "codemirror_mode": {
    "name": "ipython",
    "version": 3
   },
   "file_extension": ".py",
   "mimetype": "text/x-python",
   "name": "python",
   "nbconvert_exporter": "python",
   "pygments_lexer": "ipython3",
   "version": "3.6.10"
  }
 },
 "nbformat": 4,
 "nbformat_minor": 2
}
